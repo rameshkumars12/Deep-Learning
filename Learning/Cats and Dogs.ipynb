{
 "cells": [
  {
   "cell_type": "markdown",
   "id": "dd3a717c",
   "metadata": {},
   "source": [
    "## Importing Libraries"
   ]
  },
  {
   "cell_type": "code",
   "execution_count": 81,
   "id": "4085fb9c",
   "metadata": {},
   "outputs": [],
   "source": [
    "import numpy as np\n",
    "import tensorflow as tf\n",
    "import cv2 \n",
    "import matplotlib.pyplot as plt\n",
    "import os\n",
    "import random\n",
    "import pickle"
   ]
  },
  {
   "cell_type": "markdown",
   "id": "6854a483",
   "metadata": {},
   "source": [
    "## Loading the Dataset"
   ]
  },
  {
   "cell_type": "code",
   "execution_count": 7,
   "id": "a2e11e36",
   "metadata": {},
   "outputs": [],
   "source": [
    "DataDir = \"D:\\Deep Learning\\Learning\\Cats and Dogs\"\n",
    "Categories = [\"Dog\", \"Cat\"]"
   ]
  },
  {
   "cell_type": "markdown",
   "id": "b9acb676",
   "metadata": {},
   "source": [
    "## Getting the Cats & Dogs"
   ]
  },
  {
   "cell_type": "code",
   "execution_count": 43,
   "id": "8a06f624",
   "metadata": {},
   "outputs": [],
   "source": [
    "Dataset = []\n",
    "for category in Categories:\n",
    "    path = os.path.join(DataDir, category)\n",
    "    class_num = Categories.index(category)\n",
    "    for img in os.listdir(path):\n",
    "        try:\n",
    "            img_array = cv2.imread(os.path.join(path, img), cv2.IMREAD_GRAYSCALE)\n",
    "            new_array = cv2.resize(img_array, (50,50))\n",
    "            Dataset.append([new_array, class_num])\n",
    "        except:\n",
    "            pass"
   ]
  },
  {
   "cell_type": "markdown",
   "id": "01f14448",
   "metadata": {},
   "source": [
    "### Random Shuffling the Dataset"
   ]
  },
  {
   "cell_type": "code",
   "execution_count": 193,
   "id": "b3d5b77d",
   "metadata": {},
   "outputs": [],
   "source": [
    "random.shuffle(Dataset)"
   ]
  },
  {
   "cell_type": "markdown",
   "id": "90a23632",
   "metadata": {},
   "source": [
    "### Appending Images and Label"
   ]
  },
  {
   "cell_type": "code",
   "execution_count": 194,
   "id": "2f52304c",
   "metadata": {},
   "outputs": [],
   "source": [
    "F = []\n",
    "L = []\n",
    "for features, label in Dataset:\n",
    "    F.append(features)\n",
    "    L.append(label)\n",
    "F = np.array(F).reshape(-1, 50,50, 1)"
   ]
  },
  {
   "cell_type": "code",
   "execution_count": 195,
   "id": "11fb7aca",
   "metadata": {},
   "outputs": [
    {
     "name": "stdout",
     "output_type": "stream",
     "text": [
      "0\n"
     ]
    },
    {
     "data": {
      "image/png": "[encoded data removed]",
      "text/plain": [
       "<Figure size 432x288 with 1 Axes>"
      ]
     },
     "metadata": {
      "needs_background": "light"
     },
     "output_type": "display_data"
    }
   ],
   "source": [
    "plt.imshow(F[0],cmap=\"gray\")\n",
    "print(L[0])\n",
    "plt.show()"
   ]
  },
  {
   "cell_type": "markdown",
   "id": "8512a8aa",
   "metadata": {},
   "source": [
    "### Saving the Dataset using pickle"
   ]
  },
  {
   "cell_type": "code",
   "execution_count": 196,
   "id": "8d8728af",
   "metadata": {},
   "outputs": [],
   "source": [
    "pickle_out = open(\"F.pickle\",\"wb\")\n",
    "pickle.dump(F, pickle_out)\n",
    "pickle_out.close()"
   ]
  },
  {
   "cell_type": "code",
   "execution_count": 197,
   "id": "40f7ee41",
   "metadata": {},
   "outputs": [],
   "source": [
    "pickle_out = open(\"L.pickle\",\"wb\")\n",
    "pickle.dump(L, pickle_out)\n",
    "pickle_out.close()"
   ]
  },
  {
   "cell_type": "markdown",
   "id": "7a0b948c",
   "metadata": {},
   "source": [
    "# Training the Dataset using CNN"
   ]
  },
  {
   "cell_type": "markdown",
   "id": "95e51492",
   "metadata": {},
   "source": [
    "## Importing the Libraries"
   ]
  },
  {
   "cell_type": "code",
   "execution_count": 198,
   "id": "ef90aa6e",
   "metadata": {},
   "outputs": [],
   "source": [
    "from tensorflow.keras.models import Sequential\n",
    "from tensorflow.keras import layers"
   ]
  },
  {
   "cell_type": "code",
   "execution_count": 199,
   "id": "e0a4530a",
   "metadata": {},
   "outputs": [],
   "source": [
    "pickle_in = open(\"F.pickle\",\"rb\")\n",
    "F = pickle.load(pickle_in)\n",
    "\n",
    "pickle_in = open(\"L.pickle\",\"rb\")\n",
    "L = pickle.load(pickle_in)"
   ]
  },
  {
   "cell_type": "code",
   "execution_count": 200,
   "id": "388f7eab",
   "metadata": {},
   "outputs": [],
   "source": [
    "F = tf.keras.utils.normalize(F, axis =1)"
   ]
  },
  {
   "cell_type": "code",
   "execution_count": 201,
   "id": "b486e21f",
   "metadata": {},
   "outputs": [
    {
     "name": "stdout",
     "output_type": "stream",
     "text": [
      "1\n"
     ]
    },
    {
     "data": {
      "image/png": "[encoded data removed]",
      "text/plain": [
       "<Figure size 432x288 with 1 Axes>"
      ]
     },
     "metadata": {
      "needs_background": "light"
     },
     "output_type": "display_data"
    }
   ],
   "source": [
    "print(L[1])\n",
    "plt.imshow(F[1],cmap=\"gray\")\n",
    "plt.show()"
   ]
  },
  {
   "cell_type": "code",
   "execution_count": 202,
   "id": "59a3cc47",
   "metadata": {},
   "outputs": [],
   "source": [
    "F_train = F[:20000]\n",
    "F_test = F[20000:]\n",
    "\n",
    "L_train = L[:20000]\n",
    "L_test = L[20000:]"
   ]
  },
  {
   "cell_type": "code",
   "execution_count": 203,
   "id": "55c2d101",
   "metadata": {},
   "outputs": [
    {
     "name": "stdout",
     "output_type": "stream",
     "text": [
      "Features Train Dataset:  20000\n",
      "Features Test Dataset:  4946\n",
      "Labels Train Dataset:  20000\n",
      "Labels Test Dataset:  4946\n"
     ]
    }
   ],
   "source": [
    "print(\"Features Train Dataset: \",len(F_train))\n",
    "print(\"Features Test Dataset: \",len(F_test))\n",
    "print(\"Labels Train Dataset: \",len(L_train))\n",
    "print(\"Labels Test Dataset: \",len(L_test))"
   ]
  },
  {
   "cell_type": "code",
   "execution_count": 209,
   "id": "191b3c5c",
   "metadata": {},
   "outputs": [],
   "source": [
    "F_train = np.array(F_train)\n",
    "L_train = np.array(L_train)\n",
    "F_test = np.array(F_test)\n",
    "L_test = np.array(L_test)"
   ]
  },
  {
   "cell_type": "code",
   "execution_count": 210,
   "id": "0c1fb3dd",
   "metadata": {},
   "outputs": [
    {
     "name": "stdout",
     "output_type": "stream",
     "text": [
      "0\n"
     ]
    },
    {
     "data": {
      "image/png": "[encoded data removed]",
      "text/plain": [
       "<Figure size 432x288 with 1 Axes>"
      ]
     },
     "metadata": {
      "needs_background": "light"
     },
     "output_type": "display_data"
    }
   ],
   "source": [
    "print(L_train[0])\n",
    "plt.imshow(F_train[0],cmap=\"gray\")\n",
    "plt.show()"
   ]
  },
  {
   "cell_type": "code",
   "execution_count": 211,
   "id": "4b132424",
   "metadata": {},
   "outputs": [],
   "source": [
    "cnn = Sequential([\n",
    "    \n",
    "    # CNN\n",
    "    layers.Conv2D(filters=32, kernel_size=(3,3), activation=\"relu\", input_shape=(50,50,1)),\n",
    "    layers.MaxPooling2D((2,2)),\n",
    "    \n",
    "    layers.Conv2D(filters=64, kernel_size=(3,3), activation=\"relu\", input_shape=(50,50,1)),\n",
    "    layers.MaxPooling2D((2,2)),\n",
    "    \n",
    "    #Dense\n",
    "    \n",
    "    layers.Flatten(),\n",
    "    layers.Dense(64, activation=\"relu\"),\n",
    "    layers.Dense(2, activation=\"softmax\")\n",
    "    \n",
    "])"
   ]
  },
  {
   "cell_type": "code",
   "execution_count": 212,
   "id": "f69c3000",
   "metadata": {},
   "outputs": [],
   "source": [
    "cnn.compile(optimizer=\"adam\",\n",
    "            loss =\"sparse_categorical_crossentropy\",\n",
    "            metrics = [\"accuracy\"]\n",
    ")\n"
   ]
  },
  {
   "cell_type": "code",
   "execution_count": 214,
   "id": "67b2b701",
   "metadata": {},
   "outputs": [
    {
     "name": "stdout",
     "output_type": "stream",
     "text": [
      "Epoch 1/10\n",
      "625/625 [==============================] - 118s 73ms/step - loss: 0.6390 - accuracy: 0.6272\n",
      "Epoch 2/10\n",
      "625/625 [==============================] - 45s 72ms/step - loss: 0.5367 - accuracy: 0.7308\n",
      "Epoch 3/10\n",
      "625/625 [==============================] - 44s 71ms/step - loss: 0.4908 - accuracy: 0.7657\n",
      "Epoch 4/10\n",
      "625/625 [==============================] - 45s 71ms/step - loss: 0.4623 - accuracy: 0.7824\n",
      "Epoch 5/10\n",
      "625/625 [==============================] - 45s 72ms/step - loss: 0.4325 - accuracy: 0.7991\n",
      "Epoch 6/10\n",
      "625/625 [==============================] - 50s 80ms/step - loss: 0.3980 - accuracy: 0.8213\n",
      "Epoch 7/10\n",
      "625/625 [==============================] - 47s 75ms/step - loss: 0.3652 - accuracy: 0.8349\n",
      "Epoch 8/10\n",
      "625/625 [==============================] - 51s 81ms/step - loss: 0.3279 - accuracy: 0.8576\n",
      "Epoch 9/10\n",
      "625/625 [==============================] - 45s 72ms/step - loss: 0.2874 - accuracy: 0.8770\n",
      "Epoch 10/10\n",
      "625/625 [==============================] - 44s 71ms/step - loss: 0.2489 - accuracy: 0.8967\n"
     ]
    },
    {
     "data": {
      "text/plain": [
       "<keras.callbacks.History at 0x1ec92e26dc0>"
      ]
     },
     "execution_count": 214,
     "metadata": {},
     "output_type": "execute_result"
    }
   ],
   "source": [
    "cnn.fit(F_train, L_train, epochs=10)"
   ]
  },
  {
   "cell_type": "code",
   "execution_count": 215,
   "id": "1b396fe8",
   "metadata": {},
   "outputs": [
    {
     "name": "stdout",
     "output_type": "stream",
     "text": [
      "155/155 [==============================] - 40s 20ms/step - loss: 0.5221 - accuracy: 0.7750\n",
      "0.5221267342567444 0.7749696969985962\n"
     ]
    }
   ],
   "source": [
    "val_loss, val_acc = cnn.evaluate(F_test,L_test)\n",
    "print(val_loss, val_acc)"
   ]
  },
  {
   "cell_type": "code",
   "execution_count": null,
   "id": "bddf9d5f",
   "metadata": {},
   "outputs": [],
   "source": []
  }
 ],
 "metadata": {
  "kernelspec": {
   "display_name": "Python 3 (ipykernel)",
   "language": "python",
   "name": "python3"
  },
  "language_info": {
   "codemirror_mode": {
    "name": "ipython",
    "version": 3
   },
   "file_extension": ".py",
   "mimetype": "text/x-python",
   "name": "python",
   "nbconvert_exporter": "python",
   "pygments_lexer": "ipython3",
   "version": "3.9.7"
  }
 },
 "nbformat": 4,
 "nbformat_minor": 5
}
